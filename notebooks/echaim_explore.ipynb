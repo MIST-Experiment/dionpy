{
 "cells": [
  {
   "cell_type": "code",
   "execution_count": 2,
   "metadata": {
    "collapsed": true
   },
   "outputs": [],
   "source": [
    "import echaim\n",
    "import matplotlib.pyplot as plt\n",
    "import numpy as np\n",
    "\n",
    "from src.dionpy.modules.parallel import echaim_star"
   ]
  },
  {
   "cell_type": "code",
   "execution_count": 78,
   "outputs": [
    {
     "name": "stderr",
     "output_type": "stream",
     "text": [
      "100%|██████████| 401/401 [01:28<00:00,  4.54it/s]\n"
     ]
    }
   ],
   "source": [
    "from datetime import datetime\n",
    "import itertools\n",
    "from tqdm import tqdm\n",
    "from multiprocessing import Pool\n",
    "\n",
    "NPROC = 16\n",
    "BATCH = 50\n",
    "N = 100\n",
    "\n",
    "lats = np.linspace(55, 90, N)\n",
    "lons = np.linspace(0, 360, N*2)\n",
    "lats_m, lons_m = np.meshgrid(lats, lons)\n",
    "lats_f = lats_m.flatten()\n",
    "lons_f = lons_m.flatten()\n",
    "\n",
    "nbatches = len(lats_f) // BATCH + 1\n",
    "lats_b = np.array_split(lats_f, nbatches)\n",
    "lons_b = np.array_split(lons_f, nbatches)\n",
    "\n",
    "alts = np.linspace(150, 501, 100, dtype=np.float64)\n",
    "\n",
    "dt = datetime(year=2020, month=9, day=17, hour=16, minute=0)\n",
    "\n",
    "with Pool(NPROC) as pool:\n",
    "    res_echaim = list(\n",
    "                tqdm(\n",
    "                    pool.imap(\n",
    "                        echaim_star,\n",
    "                        zip(\n",
    "                            lats_b,\n",
    "                            lons_b,\n",
    "                            itertools.repeat(alts),\n",
    "                            itertools.repeat(dt),\n",
    "                            itertools.repeat(True),\n",
    "                            itertools.repeat(True),\n",
    "                            itertools.repeat(True),\n",
    "                        ),\n",
    "                    ),\n",
    "                    total=nbatches,\n",
    "                )\n",
    "            )\n",
    "ed = np.vstack(res_echaim)"
   ],
   "metadata": {
    "collapsed": false
   }
  },
  {
   "cell_type": "code",
   "execution_count": 76,
   "outputs": [],
   "source": [
    "edens = ed.copy()\n",
    "edens = edens.reshape((len(lons), len(lats), len(alts)))\n",
    "aver_edens = np.average(edens, axis=2)"
   ],
   "metadata": {
    "collapsed": false
   }
  },
  {
   "cell_type": "code",
   "execution_count": 77,
   "outputs": [
    {
     "data": {
      "text/plain": "<Figure size 640x480 with 1 Axes>",
      "image/png": "[encoded data removed]"
     },
     "metadata": {},
     "output_type": "display_data"
    }
   ],
   "source": [
    "plt.pcolormesh(lons_m, lats_m, aver_edens)\n",
    "plt.show()"
   ],
   "metadata": {
    "collapsed": false
   }
  }
 ],
 "metadata": {
  "kernelspec": {
   "display_name": "Python 3",
   "language": "python",
   "name": "python3"
  },
  "language_info": {
   "codemirror_mode": {
    "name": "ipython",
    "version": 2
   },
   "file_extension": ".py",
   "mimetype": "text/x-python",
   "name": "python",
   "nbconvert_exporter": "python",
   "pygments_lexer": "ipython2",
   "version": "2.7.6"
  }
 },
 "nbformat": 4,
 "nbformat_minor": 0
}
